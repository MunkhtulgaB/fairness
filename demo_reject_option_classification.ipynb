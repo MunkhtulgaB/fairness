{
  "nbformat": 4,
  "nbformat_minor": 0,
  "metadata": {
    "kernelspec": {
      "name": "python3",
      "display_name": "Python 3"
    },
    "colab": {
      "name": "demo_reject_option_classification.ipynb",
      "provenance": [],
      "include_colab_link": true
    }
  },
  "cells": [
    {
      "cell_type": "markdown",
      "metadata": {
        "id": "view-in-github",
        "colab_type": "text"
      },
      "source": [
        "<a href=\"https://colab.research.google.com/github/MunkhtulgaB/fairness/blob/main/demo_reject_option_classification.ipynb\" target=\"_parent\"><img src=\"https://colab.research.google.com/assets/colab-badge.svg\" alt=\"Open In Colab\"/></a>"
      ]
    },
    {
      "cell_type": "markdown",
      "metadata": {
        "id": "VXgPpTHixLGo"
      },
      "source": [
        "This notebook aims to modify the following demo by extending the ROC class:\n",
        "\n",
        "https://github.com/Trusted-AI/AIF360/blob/master/examples/demo_reject_option_classification.ipynb\n",
        "\n",
        "# Contribution\n",
        "**Add the possibility to pass in arbitrary metric to the ROC fit function**"
      ]
    },
    {
      "cell_type": "markdown",
      "metadata": {
        "id": "PDPhtiySyDZW"
      },
      "source": [
        "### **Step 1**\n",
        "Install aif360 and setup environment"
      ]
    },
    {
      "cell_type": "code",
      "metadata": {
        "colab": {
          "base_uri": "https://localhost:8080/"
        },
        "id": "IU-3Yn931e7G",
        "outputId": "280ee39c-6295-490d-eca2-607594f955fc"
      },
      "source": [
        "!git clone https://github.com/Trusted-AI/AIF360"
      ],
      "execution_count": null,
      "outputs": [
        {
          "output_type": "stream",
          "text": [
            "Cloning into 'AIF360'...\n",
            "remote: Enumerating objects: 176, done.\u001b[K\n",
            "remote: Counting objects: 100% (176/176), done.\u001b[K\n",
            "remote: Compressing objects: 100% (129/129), done.\u001b[K\n",
            "remote: Total 2494 (delta 96), reused 79 (delta 43), pack-reused 2318\u001b[K\n",
            "Receiving objects: 100% (2494/2494), 5.62 MiB | 23.29 MiB/s, done.\n",
            "Resolving deltas: 100% (1491/1491), done.\n"
          ],
          "name": "stdout"
        }
      ]
    },
    {
      "cell_type": "code",
      "metadata": {
        "colab": {
          "base_uri": "https://localhost:8080/"
        },
        "id": "wrLI8Amk1m5l",
        "outputId": "3d7e397f-ab37-49ca-8413-6a6c615f97eb"
      },
      "source": [
        "%cd AIF360 "
      ],
      "execution_count": null,
      "outputs": [
        {
          "output_type": "stream",
          "text": [
            "/content/equalized_odds_and_calibration/AIF360\n"
          ],
          "name": "stdout"
        }
      ]
    },
    {
      "cell_type": "code",
      "metadata": {
        "id": "8rRhJVUXMs6U",
        "colab": {
          "base_uri": "https://localhost:8080/"
        },
        "outputId": "df49f497-e90d-41be-836b-470d732b0215"
      },
      "source": [
        "%pip install '.[all]'"
      ],
      "execution_count": null,
      "outputs": [
        {
          "output_type": "stream",
          "text": [
            "Processing /content/AIF360\n",
            "Requirement already satisfied: numpy>=1.16 in /usr/local/lib/python3.7/dist-packages (from aif360==0.4.0) (1.19.5)\n",
            "Requirement already satisfied: scipy<1.6.0,>=1.2.0 in /usr/local/lib/python3.7/dist-packages (from aif360==0.4.0) (1.4.1)\n",
            "Requirement already satisfied: pandas>=0.24.0 in /usr/local/lib/python3.7/dist-packages (from aif360==0.4.0) (1.1.5)\n",
            "Requirement already satisfied: scikit-learn>=0.22.1 in /usr/local/lib/python3.7/dist-packages (from aif360==0.4.0) (0.22.2.post1)\n",
            "Requirement already satisfied: matplotlib in /usr/local/lib/python3.7/dist-packages (from aif360==0.4.0) (3.2.2)\n",
            "Requirement already satisfied: tempeh in /usr/local/lib/python3.7/dist-packages (from aif360==0.4.0) (0.1.12)\n",
            "Requirement already satisfied: cvxpy>=1.0 in /usr/local/lib/python3.7/dist-packages (from aif360==0.4.0) (1.0.31)\n",
            "Requirement already satisfied: BlackBoxAuditing in /usr/local/lib/python3.7/dist-packages (from aif360==0.4.0) (0.1.54)\n",
            "Requirement already satisfied: pytest>=3.5 in /usr/local/lib/python3.7/dist-packages (from aif360==0.4.0) (3.6.4)\n",
            "Requirement already satisfied: lime in /usr/local/lib/python3.7/dist-packages (from aif360==0.4.0) (0.2.0.1)\n",
            "Requirement already satisfied: sphinx in /usr/local/lib/python3.7/dist-packages (from aif360==0.4.0) (1.8.5)\n",
            "Requirement already satisfied: adversarial-robustness-toolbox>=1.0.0 in /usr/local/lib/python3.7/dist-packages (from aif360==0.4.0) (1.6.0)\n",
            "Requirement already satisfied: tensorflow>=1.13.1 in /usr/local/lib/python3.7/dist-packages (from aif360==0.4.0) (2.4.1)\n",
            "Requirement already satisfied: sphinx_rtd_theme in /usr/local/lib/python3.7/dist-packages (from aif360==0.4.0) (0.5.1)\n",
            "Requirement already satisfied: jupyter in /usr/local/lib/python3.7/dist-packages (from aif360==0.4.0) (1.0.0)\n",
            "Requirement already satisfied: tqdm in /usr/local/lib/python3.7/dist-packages (from aif360==0.4.0) (4.41.1)\n",
            "Requirement already satisfied: fairlearn==0.4.6 in /usr/local/lib/python3.7/dist-packages (from aif360==0.4.0) (0.4.6)\n",
            "Requirement already satisfied: python-dateutil>=2.7.3 in /usr/local/lib/python3.7/dist-packages (from pandas>=0.24.0->aif360==0.4.0) (2.8.1)\n",
            "Requirement already satisfied: pytz>=2017.2 in /usr/local/lib/python3.7/dist-packages (from pandas>=0.24.0->aif360==0.4.0) (2018.9)\n",
            "Requirement already satisfied: joblib>=0.11 in /usr/local/lib/python3.7/dist-packages (from scikit-learn>=0.22.1->aif360==0.4.0) (1.0.1)\n",
            "Requirement already satisfied: kiwisolver>=1.0.1 in /usr/local/lib/python3.7/dist-packages (from matplotlib->aif360==0.4.0) (1.3.1)\n",
            "Requirement already satisfied: cycler>=0.10 in /usr/local/lib/python3.7/dist-packages (from matplotlib->aif360==0.4.0) (0.10.0)\n",
            "Requirement already satisfied: pyparsing!=2.0.4,!=2.1.2,!=2.1.6,>=2.0.1 in /usr/local/lib/python3.7/dist-packages (from matplotlib->aif360==0.4.0) (2.4.7)\n",
            "Requirement already satisfied: shap in /usr/local/lib/python3.7/dist-packages (from tempeh->aif360==0.4.0) (0.39.0)\n",
            "Requirement already satisfied: memory-profiler in /usr/local/lib/python3.7/dist-packages (from tempeh->aif360==0.4.0) (0.58.0)\n",
            "Requirement already satisfied: requests in /usr/local/lib/python3.7/dist-packages (from tempeh->aif360==0.4.0) (2.23.0)\n",
            "Requirement already satisfied: osqp>=0.4.1 in /usr/local/lib/python3.7/dist-packages (from cvxpy>=1.0->aif360==0.4.0) (0.6.2.post0)\n",
            "Requirement already satisfied: ecos>=2 in /usr/local/lib/python3.7/dist-packages (from cvxpy>=1.0->aif360==0.4.0) (2.0.7.post1)\n",
            "Requirement already satisfied: scs>=1.1.3 in /usr/local/lib/python3.7/dist-packages (from cvxpy>=1.0->aif360==0.4.0) (2.1.2)\n",
            "Requirement already satisfied: multiprocess in /usr/local/lib/python3.7/dist-packages (from cvxpy>=1.0->aif360==0.4.0) (0.70.11.1)\n",
            "Requirement already satisfied: networkx in /usr/local/lib/python3.7/dist-packages (from BlackBoxAuditing->aif360==0.4.0) (2.5)\n",
            "Requirement already satisfied: pluggy<0.8,>=0.5 in /usr/local/lib/python3.7/dist-packages (from pytest>=3.5->aif360==0.4.0) (0.7.1)\n",
            "Requirement already satisfied: attrs>=17.4.0 in /usr/local/lib/python3.7/dist-packages (from pytest>=3.5->aif360==0.4.0) (20.3.0)\n",
            "Requirement already satisfied: atomicwrites>=1.0 in /usr/local/lib/python3.7/dist-packages (from pytest>=3.5->aif360==0.4.0) (1.4.0)\n",
            "Requirement already satisfied: py>=1.5.0 in /usr/local/lib/python3.7/dist-packages (from pytest>=3.5->aif360==0.4.0) (1.10.0)\n",
            "Requirement already satisfied: six>=1.10.0 in /usr/local/lib/python3.7/dist-packages (from pytest>=3.5->aif360==0.4.0) (1.15.0)\n",
            "Requirement already satisfied: more-itertools>=4.0.0 in /usr/local/lib/python3.7/dist-packages (from pytest>=3.5->aif360==0.4.0) (8.7.0)\n",
            "Requirement already satisfied: setuptools in /usr/local/lib/python3.7/dist-packages (from pytest>=3.5->aif360==0.4.0) (54.1.2)\n",
            "Requirement already satisfied: scikit-image>=0.12 in /usr/local/lib/python3.7/dist-packages (from lime->aif360==0.4.0) (0.16.2)\n",
            "Requirement already satisfied: Pygments>=2.0 in /usr/local/lib/python3.7/dist-packages (from sphinx->aif360==0.4.0) (2.6.1)\n",
            "Requirement already satisfied: sphinxcontrib-websupport in /usr/local/lib/python3.7/dist-packages (from sphinx->aif360==0.4.0) (1.2.4)\n",
            "Requirement already satisfied: snowballstemmer>=1.1 in /usr/local/lib/python3.7/dist-packages (from sphinx->aif360==0.4.0) (2.1.0)\n",
            "Requirement already satisfied: packaging in /usr/local/lib/python3.7/dist-packages (from sphinx->aif360==0.4.0) (20.9)\n",
            "Requirement already satisfied: babel!=2.0,>=1.3 in /usr/local/lib/python3.7/dist-packages (from sphinx->aif360==0.4.0) (2.9.0)\n",
            "Requirement already satisfied: imagesize in /usr/local/lib/python3.7/dist-packages (from sphinx->aif360==0.4.0) (1.2.0)\n",
            "Requirement already satisfied: alabaster<0.8,>=0.7 in /usr/local/lib/python3.7/dist-packages (from sphinx->aif360==0.4.0) (0.7.12)\n",
            "Requirement already satisfied: Jinja2>=2.3 in /usr/local/lib/python3.7/dist-packages (from sphinx->aif360==0.4.0) (2.11.3)\n",
            "Requirement already satisfied: docutils>=0.11 in /usr/local/lib/python3.7/dist-packages (from sphinx->aif360==0.4.0) (0.16)\n",
            "Requirement already satisfied: Pillow in /usr/local/lib/python3.7/dist-packages (from adversarial-robustness-toolbox>=1.0.0->aif360==0.4.0) (7.0.0)\n",
            "Requirement already satisfied: ffmpeg-python in /usr/local/lib/python3.7/dist-packages (from adversarial-robustness-toolbox>=1.0.0->aif360==0.4.0) (0.2.0)\n",
            "Requirement already satisfied: cma in /usr/local/lib/python3.7/dist-packages (from adversarial-robustness-toolbox>=1.0.0->aif360==0.4.0) (3.0.3)\n",
            "Requirement already satisfied: pydub in /usr/local/lib/python3.7/dist-packages (from adversarial-robustness-toolbox>=1.0.0->aif360==0.4.0) (0.25.1)\n",
            "Requirement already satisfied: numba~=0.52.0 in /usr/local/lib/python3.7/dist-packages (from adversarial-robustness-toolbox>=1.0.0->aif360==0.4.0) (0.52.0)\n",
            "Requirement already satisfied: mypy in /usr/local/lib/python3.7/dist-packages (from adversarial-robustness-toolbox>=1.0.0->aif360==0.4.0) (0.812)\n",
            "Requirement already satisfied: statsmodels in /usr/local/lib/python3.7/dist-packages (from adversarial-robustness-toolbox>=1.0.0->aif360==0.4.0) (0.10.2)\n",
            "Requirement already satisfied: resampy in /usr/local/lib/python3.7/dist-packages (from adversarial-robustness-toolbox>=1.0.0->aif360==0.4.0) (0.2.2)\n",
            "Requirement already satisfied: opt-einsum~=3.3.0 in /usr/local/lib/python3.7/dist-packages (from tensorflow>=1.13.1->aif360==0.4.0) (3.3.0)\n",
            "Requirement already satisfied: absl-py~=0.10 in /usr/local/lib/python3.7/dist-packages (from tensorflow>=1.13.1->aif360==0.4.0) (0.10.0)\n",
            "Requirement already satisfied: keras-preprocessing~=1.1.2 in /usr/local/lib/python3.7/dist-packages (from tensorflow>=1.13.1->aif360==0.4.0) (1.1.2)\n",
            "Requirement already satisfied: typing-extensions~=3.7.4 in /usr/local/lib/python3.7/dist-packages (from tensorflow>=1.13.1->aif360==0.4.0) (3.7.4.3)\n",
            "Requirement already satisfied: gast==0.3.3 in /usr/local/lib/python3.7/dist-packages (from tensorflow>=1.13.1->aif360==0.4.0) (0.3.3)\n",
            "Requirement already satisfied: google-pasta~=0.2 in /usr/local/lib/python3.7/dist-packages (from tensorflow>=1.13.1->aif360==0.4.0) (0.2.0)\n",
            "Requirement already satisfied: protobuf>=3.9.2 in /usr/local/lib/python3.7/dist-packages (from tensorflow>=1.13.1->aif360==0.4.0) (3.12.4)\n",
            "Requirement already satisfied: tensorboard~=2.4 in /usr/local/lib/python3.7/dist-packages (from tensorflow>=1.13.1->aif360==0.4.0) (2.4.1)\n",
            "Requirement already satisfied: termcolor~=1.1.0 in /usr/local/lib/python3.7/dist-packages (from tensorflow>=1.13.1->aif360==0.4.0) (1.1.0)\n",
            "Requirement already satisfied: wrapt~=1.12.1 in /usr/local/lib/python3.7/dist-packages (from tensorflow>=1.13.1->aif360==0.4.0) (1.12.1)\n",
            "Requirement already satisfied: tensorflow-estimator<2.5.0,>=2.4.0 in /usr/local/lib/python3.7/dist-packages (from tensorflow>=1.13.1->aif360==0.4.0) (2.4.0)\n",
            "Requirement already satisfied: grpcio~=1.32.0 in /usr/local/lib/python3.7/dist-packages (from tensorflow>=1.13.1->aif360==0.4.0) (1.32.0)\n",
            "Requirement already satisfied: wheel~=0.35 in /usr/local/lib/python3.7/dist-packages (from tensorflow>=1.13.1->aif360==0.4.0) (0.36.2)\n",
            "Requirement already satisfied: h5py~=2.10.0 in /usr/local/lib/python3.7/dist-packages (from tensorflow>=1.13.1->aif360==0.4.0) (2.10.0)\n",
            "Requirement already satisfied: flatbuffers~=1.12.0 in /usr/local/lib/python3.7/dist-packages (from tensorflow>=1.13.1->aif360==0.4.0) (1.12)\n",
            "Requirement already satisfied: astunparse~=1.6.3 in /usr/local/lib/python3.7/dist-packages (from tensorflow>=1.13.1->aif360==0.4.0) (1.6.3)\n",
            "Requirement already satisfied: jupyter-console in /usr/local/lib/python3.7/dist-packages (from jupyter->aif360==0.4.0) (5.2.0)\n",
            "Requirement already satisfied: notebook in /usr/local/lib/python3.7/dist-packages (from jupyter->aif360==0.4.0) (5.3.1)\n",
            "Requirement already satisfied: ipywidgets in /usr/local/lib/python3.7/dist-packages (from jupyter->aif360==0.4.0) (7.6.3)\n",
            "Requirement already satisfied: qtconsole in /usr/local/lib/python3.7/dist-packages (from jupyter->aif360==0.4.0) (5.0.3)\n",
            "Requirement already satisfied: ipykernel in /usr/local/lib/python3.7/dist-packages (from jupyter->aif360==0.4.0) (4.10.1)\n",
            "Requirement already satisfied: nbconvert in /usr/local/lib/python3.7/dist-packages (from jupyter->aif360==0.4.0) (5.6.1)\n",
            "Requirement already satisfied: slicer==0.0.7 in /usr/local/lib/python3.7/dist-packages (from shap->tempeh->aif360==0.4.0) (0.0.7)\n",
            "Requirement already satisfied: cloudpickle in /usr/local/lib/python3.7/dist-packages (from shap->tempeh->aif360==0.4.0) (1.3.0)\n",
            "Requirement already satisfied: psutil in /usr/local/lib/python3.7/dist-packages (from memory-profiler->tempeh->aif360==0.4.0) (5.4.8)\n",
            "Requirement already satisfied: chardet<4,>=3.0.2 in /usr/local/lib/python3.7/dist-packages (from requests->tempeh->aif360==0.4.0) (3.0.4)\n",
            "Requirement already satisfied: idna<3,>=2.5 in /usr/local/lib/python3.7/dist-packages (from requests->tempeh->aif360==0.4.0) (2.10)\n",
            "Requirement already satisfied: certifi>=2017.4.17 in /usr/local/lib/python3.7/dist-packages (from requests->tempeh->aif360==0.4.0) (2020.12.5)\n",
            "Requirement already satisfied: urllib3!=1.25.0,!=1.25.1,<1.26,>=1.21.1 in /usr/local/lib/python3.7/dist-packages (from requests->tempeh->aif360==0.4.0) (1.24.3)\n",
            "Requirement already satisfied: qdldl in /usr/local/lib/python3.7/dist-packages (from osqp>=0.4.1->cvxpy>=1.0->aif360==0.4.0) (0.1.5.post0)\n",
            "Requirement already satisfied: dill>=0.3.3 in /usr/local/lib/python3.7/dist-packages (from multiprocess->cvxpy>=1.0->aif360==0.4.0) (0.3.3)\n",
            "Requirement already satisfied: decorator>=4.3.0 in /usr/local/lib/python3.7/dist-packages (from networkx->BlackBoxAuditing->aif360==0.4.0) (4.4.2)\n",
            "Requirement already satisfied: imageio>=2.3.0 in /usr/local/lib/python3.7/dist-packages (from scikit-image>=0.12->lime->aif360==0.4.0) (2.4.1)\n",
            "Requirement already satisfied: PyWavelets>=0.4.0 in /usr/local/lib/python3.7/dist-packages (from scikit-image>=0.12->lime->aif360==0.4.0) (1.1.1)\n",
            "Requirement already satisfied: sphinxcontrib-serializinghtml in /usr/local/lib/python3.7/dist-packages (from sphinxcontrib-websupport->sphinx->aif360==0.4.0) (1.1.4)\n",
            "Requirement already satisfied: MarkupSafe>=0.23 in /usr/local/lib/python3.7/dist-packages (from Jinja2>=2.3->sphinx->aif360==0.4.0) (1.1.1)\n",
            "Requirement already satisfied: future in /usr/local/lib/python3.7/dist-packages (from ffmpeg-python->adversarial-robustness-toolbox>=1.0.0->aif360==0.4.0) (0.16.0)\n",
            "Requirement already satisfied: llvmlite<0.36,>=0.35.0 in /usr/local/lib/python3.7/dist-packages (from numba~=0.52.0->adversarial-robustness-toolbox>=1.0.0->aif360==0.4.0) (0.35.0)\n",
            "Requirement already satisfied: typed-ast<1.5.0,>=1.4.0 in /usr/local/lib/python3.7/dist-packages (from mypy->adversarial-robustness-toolbox>=1.0.0->aif360==0.4.0) (1.4.2)\n",
            "Requirement already satisfied: mypy-extensions<0.5.0,>=0.4.3 in /usr/local/lib/python3.7/dist-packages (from mypy->adversarial-robustness-toolbox>=1.0.0->aif360==0.4.0) (0.4.3)\n",
            "Requirement already satisfied: patsy>=0.4.0 in /usr/local/lib/python3.7/dist-packages (from statsmodels->adversarial-robustness-toolbox>=1.0.0->aif360==0.4.0) (0.5.1)\n",
            "Requirement already satisfied: markdown>=2.6.8 in /usr/local/lib/python3.7/dist-packages (from tensorboard~=2.4->tensorflow>=1.13.1->aif360==0.4.0) (3.3.4)\n",
            "Requirement already satisfied: google-auth<2,>=1.6.3 in /usr/local/lib/python3.7/dist-packages (from tensorboard~=2.4->tensorflow>=1.13.1->aif360==0.4.0) (1.27.1)\n",
            "Requirement already satisfied: werkzeug>=0.11.15 in /usr/local/lib/python3.7/dist-packages (from tensorboard~=2.4->tensorflow>=1.13.1->aif360==0.4.0) (1.0.1)\n",
            "Requirement already satisfied: tensorboard-plugin-wit>=1.6.0 in /usr/local/lib/python3.7/dist-packages (from tensorboard~=2.4->tensorflow>=1.13.1->aif360==0.4.0) (1.8.0)\n",
            "Requirement already satisfied: google-auth-oauthlib<0.5,>=0.4.1 in /usr/local/lib/python3.7/dist-packages (from tensorboard~=2.4->tensorflow>=1.13.1->aif360==0.4.0) (0.4.3)\n",
            "Requirement already satisfied: ipython in /usr/local/lib/python3.7/dist-packages (from jupyter-console->jupyter->aif360==0.4.0) (5.5.0)\n",
            "Requirement already satisfied: prompt-toolkit<2.0.0,>=1.0.0 in /usr/local/lib/python3.7/dist-packages (from jupyter-console->jupyter->aif360==0.4.0) (1.0.18)\n",
            "Requirement already satisfied: jupyter-client in /usr/local/lib/python3.7/dist-packages (from jupyter-console->jupyter->aif360==0.4.0) (5.3.5)\n",
            "Requirement already satisfied: Send2Trash in /usr/local/lib/python3.7/dist-packages (from notebook->jupyter->aif360==0.4.0) (1.5.0)\n",
            "Requirement already satisfied: jupyter-core>=4.4.0 in /usr/local/lib/python3.7/dist-packages (from notebook->jupyter->aif360==0.4.0) (4.7.1)\n",
            "Requirement already satisfied: terminado>=0.8.1 in /usr/local/lib/python3.7/dist-packages (from notebook->jupyter->aif360==0.4.0) (0.9.2)\n",
            "Requirement already satisfied: tornado>=4 in /usr/local/lib/python3.7/dist-packages (from notebook->jupyter->aif360==0.4.0) (5.1.1)\n",
            "Requirement already satisfied: nbformat in /usr/local/lib/python3.7/dist-packages (from notebook->jupyter->aif360==0.4.0) (5.1.2)\n",
            "Requirement already satisfied: ipython-genutils in /usr/local/lib/python3.7/dist-packages (from notebook->jupyter->aif360==0.4.0) (0.2.0)\n",
            "Requirement already satisfied: traitlets>=4.2.1 in /usr/local/lib/python3.7/dist-packages (from notebook->jupyter->aif360==0.4.0) (5.0.5)\n",
            "Requirement already satisfied: widgetsnbextension~=3.5.0 in /usr/local/lib/python3.7/dist-packages (from ipywidgets->jupyter->aif360==0.4.0) (3.5.1)\n",
            "Requirement already satisfied: jupyterlab-widgets>=1.0.0; python_version >= \"3.6\" in /usr/local/lib/python3.7/dist-packages (from ipywidgets->jupyter->aif360==0.4.0) (1.0.0)\n",
            "Requirement already satisfied: pyzmq>=17.1 in /usr/local/lib/python3.7/dist-packages (from qtconsole->jupyter->aif360==0.4.0) (22.0.3)\n",
            "Requirement already satisfied: qtpy in /usr/local/lib/python3.7/dist-packages (from qtconsole->jupyter->aif360==0.4.0) (1.9.0)\n",
            "Requirement already satisfied: defusedxml in /usr/local/lib/python3.7/dist-packages (from nbconvert->jupyter->aif360==0.4.0) (0.7.1)\n",
            "Requirement already satisfied: bleach in /usr/local/lib/python3.7/dist-packages (from nbconvert->jupyter->aif360==0.4.0) (3.3.0)\n",
            "Requirement already satisfied: mistune<2,>=0.8.1 in /usr/local/lib/python3.7/dist-packages (from nbconvert->jupyter->aif360==0.4.0) (0.8.4)\n",
            "Requirement already satisfied: pandocfilters>=1.4.1 in /usr/local/lib/python3.7/dist-packages (from nbconvert->jupyter->aif360==0.4.0) (1.4.3)\n",
            "Requirement already satisfied: testpath in /usr/local/lib/python3.7/dist-packages (from nbconvert->jupyter->aif360==0.4.0) (0.4.4)\n",
            "Requirement already satisfied: entrypoints>=0.2.2 in /usr/local/lib/python3.7/dist-packages (from nbconvert->jupyter->aif360==0.4.0) (0.3)\n",
            "Requirement already satisfied: importlib-metadata; python_version < \"3.8\" in /usr/local/lib/python3.7/dist-packages (from markdown>=2.6.8->tensorboard~=2.4->tensorflow>=1.13.1->aif360==0.4.0) (3.7.2)\n",
            "Requirement already satisfied: cachetools<5.0,>=2.0.0 in /usr/local/lib/python3.7/dist-packages (from google-auth<2,>=1.6.3->tensorboard~=2.4->tensorflow>=1.13.1->aif360==0.4.0) (4.2.1)\n",
            "Requirement already satisfied: rsa<5,>=3.1.4; python_version >= \"3.6\" in /usr/local/lib/python3.7/dist-packages (from google-auth<2,>=1.6.3->tensorboard~=2.4->tensorflow>=1.13.1->aif360==0.4.0) (4.7.2)\n",
            "Requirement already satisfied: pyasn1-modules>=0.2.1 in /usr/local/lib/python3.7/dist-packages (from google-auth<2,>=1.6.3->tensorboard~=2.4->tensorflow>=1.13.1->aif360==0.4.0) (0.2.8)\n",
            "Requirement already satisfied: requests-oauthlib>=0.7.0 in /usr/local/lib/python3.7/dist-packages (from google-auth-oauthlib<0.5,>=0.4.1->tensorboard~=2.4->tensorflow>=1.13.1->aif360==0.4.0) (1.3.0)\n",
            "Requirement already satisfied: simplegeneric>0.8 in /usr/local/lib/python3.7/dist-packages (from ipython->jupyter-console->jupyter->aif360==0.4.0) (0.8.1)\n",
            "Requirement already satisfied: pickleshare in /usr/local/lib/python3.7/dist-packages (from ipython->jupyter-console->jupyter->aif360==0.4.0) (0.7.5)\n",
            "Requirement already satisfied: pexpect; sys_platform != \"win32\" in /usr/local/lib/python3.7/dist-packages (from ipython->jupyter-console->jupyter->aif360==0.4.0) (4.8.0)\n",
            "Requirement already satisfied: wcwidth in /usr/local/lib/python3.7/dist-packages (from prompt-toolkit<2.0.0,>=1.0.0->jupyter-console->jupyter->aif360==0.4.0) (0.2.5)\n",
            "Requirement already satisfied: ptyprocess; os_name != \"nt\" in /usr/local/lib/python3.7/dist-packages (from terminado>=0.8.1->notebook->jupyter->aif360==0.4.0) (0.7.0)\n",
            "Requirement already satisfied: jsonschema!=2.5.0,>=2.4 in /usr/local/lib/python3.7/dist-packages (from nbformat->notebook->jupyter->aif360==0.4.0) (2.6.0)\n",
            "Requirement already satisfied: webencodings in /usr/local/lib/python3.7/dist-packages (from bleach->nbconvert->jupyter->aif360==0.4.0) (0.5.1)\n",
            "Requirement already satisfied: zipp>=0.5 in /usr/local/lib/python3.7/dist-packages (from importlib-metadata; python_version < \"3.8\"->markdown>=2.6.8->tensorboard~=2.4->tensorflow>=1.13.1->aif360==0.4.0) (3.4.1)\n",
            "Requirement already satisfied: pyasn1>=0.1.3 in /usr/local/lib/python3.7/dist-packages (from rsa<5,>=3.1.4; python_version >= \"3.6\"->google-auth<2,>=1.6.3->tensorboard~=2.4->tensorflow>=1.13.1->aif360==0.4.0) (0.4.8)\n",
            "Requirement already satisfied: oauthlib>=3.0.0 in /usr/local/lib/python3.7/dist-packages (from requests-oauthlib>=0.7.0->google-auth-oauthlib<0.5,>=0.4.1->tensorboard~=2.4->tensorflow>=1.13.1->aif360==0.4.0) (3.1.0)\n",
            "Building wheels for collected packages: aif360\n",
            "  Building wheel for aif360 (setup.py) ... \u001b[?25l\u001b[?25hdone\n",
            "  Created wheel for aif360: filename=aif360-0.4.0-cp37-none-any.whl size=1221577 sha256=22cca85f071d3e5df5a9d29dc47c60b020aa7198fe24af096d003f03dfd1fd91\n",
            "  Stored in directory: /tmp/pip-ephem-wheel-cache-v7jvwkp6/wheels/98/c1/ab/d8fba482498b80dd95f0c1940d349fb383ee734c04245e4a8e\n",
            "Successfully built aif360\n",
            "Installing collected packages: aif360\n",
            "  Found existing installation: aif360 0.4.0\n",
            "    Can't uninstall 'aif360'. No files were found to uninstall.\n",
            "Successfully installed aif360-0.4.0\n"
          ],
          "name": "stdout"
        }
      ]
    },
    {
      "cell_type": "markdown",
      "metadata": {
        "id": "31V3grha3NNR"
      },
      "source": [
        "Download data\n"
      ]
    },
    {
      "cell_type": "code",
      "metadata": {
        "colab": {
          "base_uri": "https://localhost:8080/"
        },
        "id": "Rk-DyqaK3PxM",
        "outputId": "cfec888b-a0e3-4795-b4c7-e77c58854921"
      },
      "source": [
        "import urllib.request \n",
        "\n",
        "urls = [\n",
        "  \"https://archive.ics.uci.edu/ml/machine-learning-databases/adult/adult.data\",\n",
        "\t\"https://archive.ics.uci.edu/ml/machine-learning-databases/adult/adult.test\",\n",
        "\t\"https://archive.ics.uci.edu/ml/machine-learning-databases/adult/adult.names\",\n",
        "]\n",
        "\n",
        "filenames = [\n",
        "  \"/content/AIF360/aif360/data/raw/adult/adult.data\",\n",
        "  \"/content/AIF360/aif360/data/raw/adult/adult.test\",\n",
        "  \"/content/AIF360/aif360/data/raw/adult/adult.names\",\n",
        "]\n",
        "\n",
        "for i in range(len(urls)):\n",
        "  url = urls[i]\n",
        "  filename = filenames[i]\n",
        "  print(url)\n",
        "  print(filename)\n",
        "  urllib.request.urlretrieve(url, filename)"
      ],
      "execution_count": null,
      "outputs": [
        {
          "output_type": "stream",
          "text": [
            "https://archive.ics.uci.edu/ml/machine-learning-databases/adult/adult.data\n",
            "/content/AIF360/aif360/data/raw/adult/adult.data\n",
            "https://archive.ics.uci.edu/ml/machine-learning-databases/adult/adult.test\n",
            "/content/AIF360/aif360/data/raw/adult/adult.test\n",
            "https://archive.ics.uci.edu/ml/machine-learning-databases/adult/adult.names\n",
            "/content/AIF360/aif360/data/raw/adult/adult.names\n"
          ],
          "name": "stdout"
        }
      ]
    },
    {
      "cell_type": "code",
      "metadata": {
        "colab": {
          "base_uri": "https://localhost:8080/"
        },
        "id": "eaFfNOHqUfvA",
        "outputId": "132aa916-489a-4e5d-e8e4-4feb52519feb"
      },
      "source": [
        "%cd examples"
      ],
      "execution_count": null,
      "outputs": [
        {
          "output_type": "stream",
          "text": [
            "/content/equalized_odds_and_calibration/AIF360/examples\n"
          ],
          "name": "stdout"
        }
      ]
    },
    {
      "cell_type": "markdown",
      "metadata": {
        "id": "ASSkaOBMySP5"
      },
      "source": [
        "### **Step 2**\n",
        "\n",
        "Extend the RejectOptionClassification class\n"
      ]
    },
    {
      "cell_type": "code",
      "metadata": {
        "id": "MwCZigzox5s4"
      },
      "source": [
        "from aif360.algorithms.postprocessing.reject_option_classification\\\n",
        "        import RejectOptionClassification\n",
        "\n",
        "class InquisitiveRejectOptionClassification(RejectOptionClassification):\n",
        "\n",
        "  def fit(self, dataset_true, dataset_pred, metric_fn=None):\n",
        "      \"\"\"Estimates the optimal classification threshold and margin for reject\n",
        "      option classification that optimizes the metric provided.\n",
        "      Note:\n",
        "          The `fit` function is a no-op for this algorithm.\n",
        "      Args:\n",
        "          dataset_true (BinaryLabelDataset): Dataset containing the true\n",
        "              `labels`.\n",
        "          dataset_pred (BinaryLabelDataset): Dataset containing the predicted\n",
        "              `scores`.\n",
        "      Returns:\n",
        "          RejectOptionClassification: Returns self.\n",
        "      \"\"\"\n",
        "      fair_metric_arr = np.zeros(self.num_class_thresh*self.num_ROC_margin)\n",
        "      balanced_acc_arr = np.zeros_like(fair_metric_arr)\n",
        "      ROC_margin_arr = np.zeros_like(fair_metric_arr)\n",
        "      class_thresh_arr = np.zeros_like(fair_metric_arr)\n",
        "\n",
        "      cnt = 0\n",
        "      # Iterate through class thresholds\n",
        "      for class_thresh in np.linspace(self.low_class_thresh,\n",
        "                                      self.high_class_thresh,\n",
        "                                      self.num_class_thresh):\n",
        "\n",
        "          self.classification_threshold = class_thresh\n",
        "          if class_thresh <= 0.5:\n",
        "              low_ROC_margin = 0.0\n",
        "              high_ROC_margin = class_thresh\n",
        "          else:\n",
        "              low_ROC_margin = 0.0\n",
        "              high_ROC_margin = (1.0-class_thresh)\n",
        "\n",
        "          # Iterate through ROC margins\n",
        "          for ROC_margin in np.linspace(\n",
        "                              low_ROC_margin,\n",
        "                              high_ROC_margin,\n",
        "                              self.num_ROC_margin):\n",
        "              self.ROC_margin = ROC_margin\n",
        "\n",
        "              # Predict using the current threshold and margin\n",
        "              dataset_transf_pred = self.predict(dataset_pred)\n",
        "\n",
        "              dataset_transf_metric_pred = BinaryLabelDatasetMetric(\n",
        "                                            dataset_transf_pred,\n",
        "                                            unprivileged_groups=self.unprivileged_groups,\n",
        "                                            privileged_groups=self.privileged_groups)\n",
        "              classified_transf_metric = ClassificationMetric(\n",
        "                                            dataset_true,\n",
        "                                            dataset_transf_pred,\n",
        "                                            unprivileged_groups=self.unprivileged_groups,\n",
        "                                            privileged_groups=self.privileged_groups)\n",
        "\n",
        "              ROC_margin_arr[cnt] = self.ROC_margin\n",
        "              class_thresh_arr[cnt] = self.classification_threshold\n",
        "\n",
        "              # Balanced accuracy and fairness metric computations\n",
        "              balanced_acc_arr[cnt] = 0.5*(classified_transf_metric.true_positive_rate()\\\n",
        "                                      +classified_transf_metric.true_negative_rate())\n",
        "              \n",
        "              ### THE ONLY CHANGE I MAKE TO THE FUNCTION IS HERE\n",
        "              if metric_fn:\n",
        "                  fair_metric_arr[cnt] = metric_fn(classified_transf_metric)\n",
        "              ###\n",
        "              \n",
        "              elif self.metric_name == \"Statistical parity difference\":\n",
        "                  fair_metric_arr[cnt] = dataset_transf_metric_pred.mean_difference()\n",
        "              elif self.metric_name == \"Average odds difference\":\n",
        "                  fair_metric_arr[cnt] = classified_transf_metric.average_odds_difference()\n",
        "              elif self.metric_name == \"Equal opportunity difference\":\n",
        "                  fair_metric_arr[cnt] = classified_transf_metric.equal_opportunity_difference()\n",
        "              \n",
        "              \n",
        "\n",
        "              cnt += 1\n",
        "\n",
        "      rel_inds = np.logical_and(fair_metric_arr >= self.metric_lb,\n",
        "                                fair_metric_arr <= self.metric_ub)\n",
        "      if any(rel_inds):\n",
        "          best_ind = np.where(balanced_acc_arr[rel_inds]\n",
        "                              == np.max(balanced_acc_arr[rel_inds]))[0][0]\n",
        "      else:\n",
        "          warn(\"Unable to satisy fairness constraints\")\n",
        "          rel_inds = np.ones(len(fair_metric_arr), dtype=bool)\n",
        "          best_ind = np.where(fair_metric_arr[rel_inds]\n",
        "                              == np.min(fair_metric_arr[rel_inds]))[0][0]\n",
        "\n",
        "      self.ROC_margin = ROC_margin_arr[rel_inds][best_ind]\n",
        "      self.classification_threshold = class_thresh_arr[rel_inds][best_ind]\n",
        "\n",
        "      return self\n",
        "\n",
        "\n"
      ],
      "execution_count": null,
      "outputs": []
    },
    {
      "cell_type": "markdown",
      "metadata": {
        "id": "Tq5xCi7Nwyoz"
      },
      "source": [
        "###**From here everything is as in original demo except for use of new InquisitiveRejectOptionClassification**\n",
        "#### This notebook demonstrates the use of the Reject Option Classification (ROC) post-processing algorithm for bias mitigation.\n",
        "- The debiasing function used is implemented in the `RejectOptionClassification` class.\n",
        "- Divide the dataset into training, validation, and testing partitions.\n",
        "- Train classifier on original training data.\n",
        "- Estimate the optimal classification threshold, that maximizes balanced accuracy without fairness constraints.\n",
        "- Estimate the optimal classification threshold, and the critical region boundary (ROC margin) using a validation set for the desired constraint on fairness. The best parameters are those that maximize the classification threshold while satisfying the fairness constraints.\n",
        "- The constraints can be used on the following fairness measures:\n",
        "    * Statistical parity difference on the predictions of the classifier\n",
        "    * Average odds difference for the classifier\n",
        "    * Equal opportunity difference for the classifier\n",
        "- Determine the prediction scores for testing data. Using the estimated optimal classification threshold, compute accuracy and fairness metrics.\n",
        "- Using the determined optimal classification threshold and the ROC margin, adjust the predictions. Report accuracy and fairness metric on the new predictions."
      ]
    },
    {
      "cell_type": "code",
      "metadata": {
        "id": "oOpqLnRiwyo1"
      },
      "source": [
        "%matplotlib inline\n",
        "# Load all necessary packages\n",
        "import sys\n",
        "sys.path.append(\"../\")\n",
        "import numpy as np\n",
        "from tqdm import tqdm\n",
        "from warnings import warn\n",
        "\n",
        "from aif360.datasets import BinaryLabelDataset\n",
        "from aif360.datasets import AdultDataset, GermanDataset, CompasDataset\n",
        "from aif360.metrics import ClassificationMetric, BinaryLabelDatasetMetric\n",
        "from aif360.metrics.utils import compute_boolean_conditioning_vector\n",
        "from aif360.algorithms.preprocessing.optim_preproc_helpers.data_preproc_functions\\\n",
        "        import load_preproc_data_adult, load_preproc_data_german, load_preproc_data_compas\n",
        "# from aif360.algorithms.postprocessing.reject_option_classification\\\n",
        "#         import RejectOptionClassification\n",
        "from common_utils import compute_metrics\n",
        "\n",
        "from sklearn.linear_model import LogisticRegression\n",
        "from sklearn.preprocessing import StandardScaler\n",
        "from sklearn.metrics import accuracy_score\n",
        "\n",
        "from IPython.display import Markdown, display\n",
        "import matplotlib.pyplot as plt\n",
        "from ipywidgets import interactive, FloatSlider"
      ],
      "execution_count": null,
      "outputs": []
    },
    {
      "cell_type": "markdown",
      "metadata": {
        "id": "1IP3hmIGwyo1"
      },
      "source": [
        "#### Load dataset and specify options"
      ]
    },
    {
      "cell_type": "code",
      "metadata": {
        "id": "HQi08pqOwyo1"
      },
      "source": [
        "## import dataset\n",
        "dataset_used = \"adult\" # \"adult\", \"german\", \"compas\"\n",
        "protected_attribute_used = 1 # 1, 2\n",
        "\n",
        "if dataset_used == \"adult\":\n",
        "#     dataset_orig = AdultDataset()\n",
        "    if protected_attribute_used == 1:\n",
        "        privileged_groups = [{'sex': 1}]\n",
        "        unprivileged_groups = [{'sex': 0}]\n",
        "        dataset_orig = load_preproc_data_adult(['sex'])\n",
        "    else:\n",
        "        privileged_groups = [{'race': 1}]\n",
        "        unprivileged_groups = [{'race': 0}]\n",
        "        dataset_orig = load_preproc_data_adult(['race'])\n",
        "    \n",
        "elif dataset_used == \"german\":\n",
        "#     dataset_orig = GermanDataset()balanced_acc_arr\n",
        "    if protected_attribute_used == 1:\n",
        "        privileged_groups = [{'sex': 1}]\n",
        "        unprivileged_groups = [{'sex': 0}]\n",
        "        dataset_orig = load_preproc_data_german(['sex'])\n",
        "    else:\n",
        "        privileged_groups = [{'age': 1}]\n",
        "        unprivileged_groups = [{'age': 0}]\n",
        "        dataset_orig = load_preproc_data_german(['age'])\n",
        "    \n",
        "elif dataset_used == \"compas\":\n",
        "#     dataset_orig = CompasDataset()\n",
        "    if protected_attribute_used == 1:\n",
        "        privileged_groups = [{'sex': 1}]\n",
        "        unprivileged_groups = [{'sex': 0}]\n",
        "        dataset_orig = load_preproc_data_compas(['sex'])\n",
        "    else:\n",
        "        privileged_groups = [{'race': 1}]\n",
        "        unprivileged_groups = [{'race': 0}]  \n",
        "        dataset_orig = load_preproc_data_compas(['race'])\n",
        "\n",
        "        \n",
        "# Metric used (should be one of allowed_metrics)\n",
        "metric_name = \"Average odds difference\"\n",
        "\n",
        "# Upper and lower bound on the fairness metric used\n",
        "metric_ub = 0.05\n",
        "metric_lb = -0.05\n",
        "        \n",
        "#random seed for calibrated equal odds prediction\n",
        "np.random.seed(1)\n",
        "\n",
        "# Verify metric name\n",
        "allowed_metrics = [\"Statistical parity difference\",\n",
        "                   \"Average odds difference\",\n",
        "                   \"Equal opportunity difference\",\n",
        "                   \"Custom\"]\n",
        "if metric_name not in allowed_metrics:\n",
        "    raise ValueError(\"Metric name should be one of allowed metrics\")"
      ],
      "execution_count": null,
      "outputs": []
    },
    {
      "cell_type": "markdown",
      "metadata": {
        "id": "Rxusc_sAwyo2"
      },
      "source": [
        "#### Split into train, test and validation"
      ]
    },
    {
      "cell_type": "code",
      "metadata": {
        "id": "dcfrVcOzwyo2"
      },
      "source": [
        "# Get the dataset and split into train and test\n",
        "dataset_orig_train, dataset_orig_vt = dataset_orig.split([0.7], shuffle=True)\n",
        "dataset_orig_valid, dataset_orig_test = dataset_orig_vt.split([0.5], shuffle=True)"
      ],
      "execution_count": null,
      "outputs": []
    },
    {
      "cell_type": "markdown",
      "metadata": {
        "id": "YNIyTdxowyo2"
      },
      "source": [
        "#### Clean up training data and display properties of the data"
      ]
    },
    {
      "cell_type": "code",
      "metadata": {
        "id": "Uok51X9xwyo2",
        "colab": {
          "base_uri": "https://localhost:8080/",
          "height": 320
        },
        "outputId": "3924a7f1-5b69-45f6-ee57-effd23c5f844"
      },
      "source": [
        "# print out some labels, names, etc.\n",
        "display(Markdown(\"#### Training Dataset shape\"))\n",
        "print(dataset_orig_train.features.shape)\n",
        "display(Markdown(\"#### Favorable and unfavorable labels\"))\n",
        "print(dataset_orig_train.favorable_label, dataset_orig_train.unfavorable_label)\n",
        "display(Markdown(\"#### Protected attribute names\"))\n",
        "print(dataset_orig_train.protected_attribute_names)\n",
        "display(Markdown(\"#### Privileged and unprivileged protected attribute values\"))\n",
        "print(dataset_orig_train.privileged_protected_attributes, \n",
        "      dataset_orig_train.unprivileged_protected_attributes)\n",
        "display(Markdown(\"#### Dataset feature names\"))\n",
        "print(dataset_orig_train.feature_names)"
      ],
      "execution_count": null,
      "outputs": [
        {
          "output_type": "display_data",
          "data": {
            "text/markdown": "#### Training Dataset shape",
            "text/plain": [
              "<IPython.core.display.Markdown object>"
            ]
          },
          "metadata": {
            "tags": []
          }
        },
        {
          "output_type": "stream",
          "text": [
            "(34189, 18)\n"
          ],
          "name": "stdout"
        },
        {
          "output_type": "display_data",
          "data": {
            "text/markdown": "#### Favorable and unfavorable labels",
            "text/plain": [
              "<IPython.core.display.Markdown object>"
            ]
          },
          "metadata": {
            "tags": []
          }
        },
        {
          "output_type": "stream",
          "text": [
            "1.0 0.0\n"
          ],
          "name": "stdout"
        },
        {
          "output_type": "display_data",
          "data": {
            "text/markdown": "#### Protected attribute names",
            "text/plain": [
              "<IPython.core.display.Markdown object>"
            ]
          },
          "metadata": {
            "tags": []
          }
        },
        {
          "output_type": "stream",
          "text": [
            "['sex']\n"
          ],
          "name": "stdout"
        },
        {
          "output_type": "display_data",
          "data": {
            "text/markdown": "#### Privileged and unprivileged protected attribute values",
            "text/plain": [
              "<IPython.core.display.Markdown object>"
            ]
          },
          "metadata": {
            "tags": []
          }
        },
        {
          "output_type": "stream",
          "text": [
            "[array([1.])] [array([0.])]\n"
          ],
          "name": "stdout"
        },
        {
          "output_type": "display_data",
          "data": {
            "text/markdown": "#### Dataset feature names",
            "text/plain": [
              "<IPython.core.display.Markdown object>"
            ]
          },
          "metadata": {
            "tags": []
          }
        },
        {
          "output_type": "stream",
          "text": [
            "['race', 'sex', 'Age (decade)=10', 'Age (decade)=20', 'Age (decade)=30', 'Age (decade)=40', 'Age (decade)=50', 'Age (decade)=60', 'Age (decade)=>=70', 'Education Years=6', 'Education Years=7', 'Education Years=8', 'Education Years=9', 'Education Years=10', 'Education Years=11', 'Education Years=12', 'Education Years=<6', 'Education Years=>12']\n"
          ],
          "name": "stdout"
        }
      ]
    },
    {
      "cell_type": "markdown",
      "metadata": {
        "id": "xcKTtoQywyo3"
      },
      "source": [
        "#### Metric for original training data"
      ]
    },
    {
      "cell_type": "code",
      "metadata": {
        "id": "ExJn77GFwyo3",
        "colab": {
          "base_uri": "https://localhost:8080/",
          "height": 74
        },
        "outputId": "a9e8603f-2d85-4fcd-d7e2-097e17b29ef1"
      },
      "source": [
        "metric_orig_train = BinaryLabelDatasetMetric(dataset_orig_train, \n",
        "                                             unprivileged_groups=unprivileged_groups,\n",
        "                                             privileged_groups=privileged_groups)\n",
        "display(Markdown(\"#### Original training dataset\"))\n",
        "print(\"Difference in mean outcomes between unprivileged and privileged groups = %f\" % metric_orig_train.mean_difference())"
      ],
      "execution_count": null,
      "outputs": [
        {
          "output_type": "display_data",
          "data": {
            "text/markdown": "#### Original training dataset",
            "text/plain": [
              "<IPython.core.display.Markdown object>"
            ]
          },
          "metadata": {
            "tags": []
          }
        },
        {
          "output_type": "stream",
          "text": [
            "Difference in mean outcomes between unprivileged and privileged groups = -0.190244\n"
          ],
          "name": "stdout"
        }
      ]
    },
    {
      "cell_type": "markdown",
      "metadata": {
        "id": "4DIUbHXLwyo3"
      },
      "source": [
        "### Train classifier on original data"
      ]
    },
    {
      "cell_type": "code",
      "metadata": {
        "id": "P7dB5ZiRwyo3"
      },
      "source": [
        "# Logistic regression classifier and predictions\n",
        "scale_orig = StandardScaler()\n",
        "X_train = scale_orig.fit_transform(dataset_orig_train.features)\n",
        "y_train = dataset_orig_train.labels.ravel()\n",
        "\n",
        "lmod = LogisticRegression()\n",
        "lmod.fit(X_train, y_train)\n",
        "y_train_pred = lmod.predict(X_train)\n",
        "\n",
        "# positive class index\n",
        "pos_ind = np.where(lmod.classes_ == dataset_orig_train.favorable_label)[0][0]\n",
        "\n",
        "dataset_orig_train_pred = dataset_orig_train.copy(deepcopy=True)\n",
        "dataset_orig_train_pred.labels = y_train_pred"
      ],
      "execution_count": null,
      "outputs": []
    },
    {
      "cell_type": "markdown",
      "metadata": {
        "id": "u-CQM9PRwyo4"
      },
      "source": [
        "#### Obtain scores for validation and test sets"
      ]
    },
    {
      "cell_type": "code",
      "metadata": {
        "id": "EquVDhmEwyo4"
      },
      "source": [
        "dataset_orig_valid_pred = dataset_orig_valid.copy(deepcopy=True)\n",
        "X_valid = scale_orig.transform(dataset_orig_valid_pred.features)\n",
        "y_valid = dataset_orig_valid_pred.labels\n",
        "dataset_orig_valid_pred.scores = lmod.predict_proba(X_valid)[:,pos_ind].reshape(-1,1)\n",
        "\n",
        "dataset_orig_test_pred = dataset_orig_test.copy(deepcopy=True)\n",
        "X_test = scale_orig.transform(dataset_orig_test_pred.features)\n",
        "y_test = dataset_orig_test_pred.labels\n",
        "dataset_orig_test_pred.scores = lmod.predict_proba(X_test)[:,pos_ind].reshape(-1,1)"
      ],
      "execution_count": null,
      "outputs": []
    },
    {
      "cell_type": "markdown",
      "metadata": {
        "id": "4NhQvK-iwyo4"
      },
      "source": [
        "### Find the optimal parameters from the validation set"
      ]
    },
    {
      "cell_type": "markdown",
      "metadata": {
        "id": "WHwMetCVwyo4"
      },
      "source": [
        "#### Best threshold for classification only (no fairness)"
      ]
    },
    {
      "cell_type": "code",
      "metadata": {
        "id": "7eIXnua5wyo4",
        "colab": {
          "base_uri": "https://localhost:8080/"
        },
        "outputId": "235ba20b-2ee4-4476-fd03-7c76f08f8df2"
      },
      "source": [
        "num_thresh = 100\n",
        "ba_arr = np.zeros(num_thresh)\n",
        "class_thresh_arr = np.linspace(0.01, 0.99, num_thresh)\n",
        "for idx, class_thresh in enumerate(class_thresh_arr):\n",
        "    \n",
        "    fav_inds = dataset_orig_valid_pred.scores > class_thresh\n",
        "    dataset_orig_valid_pred.labels[fav_inds] = dataset_orig_valid_pred.favorable_label\n",
        "    dataset_orig_valid_pred.labels[~fav_inds] = dataset_orig_valid_pred.unfavorable_label\n",
        "    \n",
        "    classified_metric_orig_valid = ClassificationMetric(dataset_orig_valid,\n",
        "                                             dataset_orig_valid_pred, \n",
        "                                             unprivileged_groups=unprivileged_groups,\n",
        "                                             privileged_groups=privileged_groups)\n",
        "    \n",
        "    ba_arr[idx] = 0.5*(classified_metric_orig_valid.true_positive_rate()\\\n",
        "                       +classified_metric_orig_valid.true_negative_rate())\n",
        "\n",
        "best_ind = np.where(ba_arr == np.max(ba_arr))[0][0]\n",
        "best_class_thresh = class_thresh_arr[best_ind]\n",
        "\n",
        "print(\"Best balanced accuracy (no fairness constraints) = %.4f\" % np.max(ba_arr))\n",
        "print(\"Optimal classification threshold (no fairness constraints) = %.4f\" % best_class_thresh)"
      ],
      "execution_count": null,
      "outputs": [
        {
          "output_type": "stream",
          "text": [
            "Best balanced accuracy (no fairness constraints) = 0.7463\n",
            "Optimal classification threshold (no fairness constraints) = 0.2872\n"
          ],
          "name": "stdout"
        }
      ]
    },
    {
      "cell_type": "markdown",
      "metadata": {
        "id": "A-5d6GsVwyo5"
      },
      "source": [
        "## **Estimate optimal parameters for the ROC method**"
      ]
    },
    {
      "cell_type": "code",
      "metadata": {
        "id": "gBbiZ2bZwyo5"
      },
      "source": [
        "ROC = InquisitiveRejectOptionClassification(unprivileged_groups=unprivileged_groups, \n",
        "                                 privileged_groups=privileged_groups, \n",
        "                                 low_class_thresh=0.01, high_class_thresh=0.99,\n",
        "                                  num_class_thresh=100, num_ROC_margin=50,\n",
        "                                  # metric_name=metric_name,\n",
        "                                  metric_ub=metric_ub, metric_lb=metric_lb)\n",
        "ROC = ROC.fit(dataset_orig_valid, dataset_orig_valid_pred, metric_fn=lambda metric: \n",
        "                            metric.average_odds_difference())"
      ],
      "execution_count": null,
      "outputs": []
    },
    {
      "cell_type": "code",
      "metadata": {
        "id": "K6E76QJhwyo6",
        "colab": {
          "base_uri": "https://localhost:8080/"
        },
        "outputId": "9dafc7bf-582b-44be-b2ca-dade94c6c6b7"
      },
      "source": [
        "print(\"Optimal classification threshold (with fairness constraints) = %.4f\" % ROC.classification_threshold)\n",
        "print(\"Optimal ROC margin = %.4f\" % ROC.ROC_margin)"
      ],
      "execution_count": null,
      "outputs": [
        {
          "output_type": "stream",
          "text": [
            "Optimal classification threshold (with fairness constraints) = 0.1585\n",
            "Optimal ROC margin = 0.0615\n"
          ],
          "name": "stdout"
        }
      ]
    },
    {
      "cell_type": "markdown",
      "metadata": {
        "id": "tHPO-aczwyo6"
      },
      "source": [
        "### Predictions from Validation Set"
      ]
    },
    {
      "cell_type": "code",
      "metadata": {
        "id": "8Oobiwj5wyo6",
        "colab": {
          "base_uri": "https://localhost:8080/",
          "height": 192
        },
        "outputId": "3658bb0a-d04f-4621-f214-e3bfbe19ed43"
      },
      "source": [
        "# Metrics for the test set\n",
        "fav_inds = dataset_orig_valid_pred.scores > best_class_thresh\n",
        "dataset_orig_valid_pred.labels[fav_inds] = dataset_orig_valid_pred.favorable_label\n",
        "dataset_orig_valid_pred.labels[~fav_inds] = dataset_orig_valid_pred.unfavorable_label\n",
        "\n",
        "display(Markdown(\"#### Validation set\"))\n",
        "display(Markdown(\"##### Raw predictions - No fairness constraints, only maximizing balanced accuracy\"))\n",
        "\n",
        "metric_valid_bef = compute_metrics(dataset_orig_valid, dataset_orig_valid_pred, \n",
        "                unprivileged_groups, privileged_groups)"
      ],
      "execution_count": null,
      "outputs": [
        {
          "output_type": "display_data",
          "data": {
            "text/markdown": "#### Validation set",
            "text/plain": [
              "<IPython.core.display.Markdown object>"
            ]
          },
          "metadata": {
            "tags": []
          }
        },
        {
          "output_type": "display_data",
          "data": {
            "text/markdown": "##### Raw predictions - No fairness constraints, only maximizing balanced accuracy",
            "text/plain": [
              "<IPython.core.display.Markdown object>"
            ]
          },
          "metadata": {
            "tags": []
          }
        },
        {
          "output_type": "stream",
          "text": [
            "Balanced accuracy = 0.7463\n",
            "Statistical parity difference = -0.3670\n",
            "Disparate impact = 0.2744\n",
            "Average odds difference = -0.3140\n",
            "Equal opportunity difference = -0.3666\n",
            "Theil index = 0.1113\n"
          ],
          "name": "stdout"
        }
      ]
    },
    {
      "cell_type": "code",
      "metadata": {
        "id": "l2RZtZZuwyo6",
        "colab": {
          "base_uri": "https://localhost:8080/",
          "height": 192
        },
        "outputId": "5c489731-70d2-4f42-b51c-d254dd8b92ef"
      },
      "source": [
        "# Transform the validation set\n",
        "dataset_transf_valid_pred = ROC.predict(dataset_orig_valid_pred)\n",
        "\n",
        "display(Markdown(\"#### Validation set\"))\n",
        "display(Markdown(\"##### Transformed predictions - With fairness constraints\"))\n",
        "metric_valid_aft = compute_metrics(dataset_orig_valid, dataset_transf_valid_pred, \n",
        "                unprivileged_groups, privileged_groups)"
      ],
      "execution_count": null,
      "outputs": [
        {
          "output_type": "display_data",
          "data": {
            "text/markdown": "#### Validation set",
            "text/plain": [
              "<IPython.core.display.Markdown object>"
            ]
          },
          "metadata": {
            "tags": []
          }
        },
        {
          "output_type": "display_data",
          "data": {
            "text/markdown": "##### Transformed predictions - With fairness constraints",
            "text/plain": [
              "<IPython.core.display.Markdown object>"
            ]
          },
          "metadata": {
            "tags": []
          }
        },
        {
          "output_type": "stream",
          "text": [
            "Balanced accuracy = 0.7167\n",
            "Statistical parity difference = -0.1328\n",
            "Disparate impact = 0.7539\n",
            "Average odds difference = -0.0492\n",
            "Equal opportunity difference = -0.0608\n",
            "Theil index = 0.1018\n"
          ],
          "name": "stdout"
        }
      ]
    },
    {
      "cell_type": "markdown",
      "metadata": {
        "id": "8GqlRJZHnRRU"
      },
      "source": [
        "Validation set\n",
        "Transformed predictions - With fairness constraints\n",
        "Balanced accuracy = 0.7090\n",
        "Statistical parity difference = -0.0454\n",
        "Disparate impact = 0.8996\n",
        "Average odds difference = 0.0363\n",
        "Equal opportunity difference = 0.0197\n",
        "Theil index = 0.1172\n"
      ]
    },
    {
      "cell_type": "code",
      "metadata": {
        "id": "_2iDe7jmwyo7"
      },
      "source": [
        "# Testing: Check if the metric optimized has not become worse\n",
        "assert np.abs(metric_valid_aft[metric_name]) <= np.abs(metric_valid_bef[metric_name])"
      ],
      "execution_count": null,
      "outputs": []
    },
    {
      "cell_type": "markdown",
      "metadata": {
        "id": "fSNw2MsDwyo7"
      },
      "source": [
        "### Predictions from Test Set"
      ]
    },
    {
      "cell_type": "code",
      "metadata": {
        "id": "r3tr3dDPwyo7",
        "colab": {
          "base_uri": "https://localhost:8080/",
          "height": 192
        },
        "outputId": "88a537dd-580c-4a31-90af-c5313239ead9"
      },
      "source": [
        "# Metrics for the test set\n",
        "fav_inds = dataset_orig_test_pred.scores > best_class_thresh\n",
        "dataset_orig_test_pred.labels[fav_inds] = dataset_orig_test_pred.favorable_label\n",
        "dataset_orig_test_pred.labels[~fav_inds] = dataset_orig_test_pred.unfavorable_label\n",
        "\n",
        "display(Markdown(\"#### Test set\"))\n",
        "display(Markdown(\"##### Raw predictions - No fairness constraints, only maximizing balanced accuracy\"))\n",
        "\n",
        "metric_test_bef = compute_metrics(dataset_orig_test, dataset_orig_test_pred, \n",
        "                unprivileged_groups, privileged_groups)"
      ],
      "execution_count": null,
      "outputs": [
        {
          "output_type": "display_data",
          "data": {
            "text/markdown": "#### Test set",
            "text/plain": [
              "<IPython.core.display.Markdown object>"
            ]
          },
          "metadata": {
            "tags": []
          }
        },
        {
          "output_type": "display_data",
          "data": {
            "text/markdown": "##### Raw predictions - No fairness constraints, only maximizing balanced accuracy",
            "text/plain": [
              "<IPython.core.display.Markdown object>"
            ]
          },
          "metadata": {
            "tags": []
          }
        },
        {
          "output_type": "stream",
          "text": [
            "Balanced accuracy = 0.7437\n",
            "Statistical parity difference = -0.3580\n",
            "Disparate impact = 0.2794\n",
            "Average odds difference = -0.3181\n",
            "Equal opportunity difference = -0.3769\n",
            "Theil index = 0.1129\n"
          ],
          "name": "stdout"
        }
      ]
    },
    {
      "cell_type": "code",
      "metadata": {
        "id": "jNEsrh3Rwyo7",
        "colab": {
          "base_uri": "https://localhost:8080/",
          "height": 192
        },
        "outputId": "94e7a97c-eea4-4d9e-b310-bffc62921d78"
      },
      "source": [
        "# Metrics for the transformed test set\n",
        "dataset_transf_test_pred = ROC.predict(dataset_orig_test_pred)\n",
        "\n",
        "display(Markdown(\"#### Test set\"))\n",
        "display(Markdown(\"##### Transformed predictions - With fairness constraints\"))\n",
        "metric_test_aft = compute_metrics(dataset_orig_test, dataset_transf_test_pred, \n",
        "                unprivileged_groups, privileged_groups)"
      ],
      "execution_count": null,
      "outputs": [
        {
          "output_type": "display_data",
          "data": {
            "text/markdown": "#### Test set",
            "text/plain": [
              "<IPython.core.display.Markdown object>"
            ]
          },
          "metadata": {
            "tags": []
          }
        },
        {
          "output_type": "display_data",
          "data": {
            "text/markdown": "##### Transformed predictions - With fairness constraints",
            "text/plain": [
              "<IPython.core.display.Markdown object>"
            ]
          },
          "metadata": {
            "tags": []
          }
        },
        {
          "output_type": "stream",
          "text": [
            "Balanced accuracy = 0.7141\n",
            "Statistical parity difference = -0.0402\n",
            "Disparate impact = 0.9088\n",
            "Average odds difference = 0.0423\n",
            "Equal opportunity difference = 0.0407\n",
            "Theil index = 0.1171\n"
          ],
          "name": "stdout"
        }
      ]
    },
    {
      "cell_type": "markdown",
      "metadata": {
        "id": "UPl7Oa_Jwyo8"
      },
      "source": [
        "# Summary of Optimal Parameters\n",
        "We show the optimal parameters for all combinations of metrics optimized, datasets, and protected attributes below."
      ]
    },
    {
      "cell_type": "markdown",
      "metadata": {
        "id": "CJbCQe6Rwyo8"
      },
      "source": [
        "### Fairness Metric: Statistical parity difference, Accuracy Metric: Balanced accuracy\n",
        "\n",
        "#### Performance\n",
        "\n",
        "| Dataset |Sex (Acc-Bef)|Sex (Acc-Aft)|Sex (Fair-Bef)|Sex (Fair-Aft)|Race/Age (Acc-Bef)|Race/Age (Acc-Aft)|Race/Age (Fair-Bef)|Race/Age (Fair-Aft)|\n",
        "|-|-|-|-|-|-|-|-|-|\n",
        "|Adult (Valid)|0.7473|0.6051|-0.3703|-0.0436|0.7473|0.6198|-0.2226|-0.0007|\n",
        "|Adult (Test)|0.7417|0.5968|-0.3576|-0.0340|0.7417|0.6202|-0.2279|0.0006|\n",
        "|German (Valid)|0.6930|0.6991|-0.0613|0.0429|0.6930|0.6607|-0.2525|-0.0328|\n",
        "|German (Test)|0.6524|0.6460|-0.0025|0.0410|0.6524|0.6317|-0.3231|-0.1038|\n",
        "|Compas (Valid)|0.6599|0.6400|-0.2802|0.0234|0.6599|0.6646|-0.3225|-0.0471|\n",
        "|Compas (Test)|0.6774|0.6746|-0.2724|-0.0313|0.6774|0.6512|-0.2494|0.0578|\n",
        "\n",
        "#### Optimal Parameters\n",
        "\n",
        "| Dataset |Sex (Class. thresh.)|Sex (Class. thresh. - fairness)|Sex (ROC margin - fairness)| Race/Age (Class. thresh.)|Race/Age (Class. thresh. - fairness)|Race/Age (ROC margin - fairness)|\n",
        "|-|-|-|-|-|-|-|\n",
        "|Adult|0.2674|0.5049|0.1819|0.2674|0.5049|0.0808|\n",
        "|German|0.6732|0.6237|0.0538|0.6732|0.7029|0.0728|\n",
        "|Compas|0.5148|0.5841|0.0679|0.5148|0.5841|0.0679|"
      ]
    },
    {
      "cell_type": "markdown",
      "metadata": {
        "id": "SucN8vCPwyo8"
      },
      "source": [
        "### Fairness Metric: Average odds difference, Accuracy Metric: Balanced accuracy\n",
        "\n",
        "#### Performance\n",
        "\n",
        "| Dataset |Sex (Acc-Bef)|Sex (Acc-Aft)|Sex (Fair-Bef)|Sex (Fair-Aft)|Race/Age (Acc-Bef)|Race/Age (Acc-Aft)|Race/Age (Fair-Bef)|Race/Age (Fair-Aft)|\n",
        "|-|-|-|-|-|-|-|-|-|\n",
        "|Adult (Valid)|0.7473|0.6058|-0.2910|-0.0385|0.7473|0.6593|-0.1947|-0.0444|\n",
        "|Adult (Test)|0.7417|0.6024|-0.3281|-0.0438|0.7417|0.6611|-0.1991|-0.0121|\n",
        "|German (Valid)|0.6930|0.6930|-0.0039|-0.0039|0.6930|0.6807|-0.0919|-0.0193|\n",
        "|German (Test)|0.6524|0.6571|0.0071|0.0237|0.6524|0.6587|-0.3278|-0.2708|\n",
        "|Compas (Valid)|0.6599|0.6416|-0.2285|-0.0332|0.6599|0.6646|-0.2918|-0.0105|\n",
        "|Compas (Test)|0.6774|0.6721|-0.2439|-0.0716|0.6774|0.6512|-0.1927|0.1145|\n",
        "\n",
        "#### Optimal Parameters\n",
        "\n",
        "| Dataset |Sex (Class. thresh.)|Sex (Class. thresh. - fairness)|Sex (ROC margin - fairness)| Race/Age (Class. thresh.)|Race/Age (Class. thresh. - fairness)|Race/Age (ROC margin - fairness)|\n",
        "|-|-|-|-|-|-|-|\n",
        "|Adult|0.2674|0.5049|0.1212|0.2674|0.5049|0.0505|\n",
        "|German|0.6732|0.6633|0.0137|0.6732|0.6732|0.0467|\n",
        "|Compas|0.5148|0.5742|0.0608|0.5148|0.5841|0.0679|\n"
      ]
    },
    {
      "cell_type": "markdown",
      "metadata": {
        "id": "-VAjqTZEwyo8"
      },
      "source": [
        "### Fairness Metric: Equal opportunity difference, Accuracy Metric: Balanced accuracy\n",
        "\n",
        "#### Performance\n",
        "\n",
        "| Dataset |Sex (Acc-Bef)|Sex (Acc-Aft)|Sex (Fair-Bef)|Sex (Fair-Aft)|Race/Age (Acc-Bef)|Race/Age (Acc-Aft)|Race/Age (Fair-Bef)|Race/Age (Fair-Aft)|\n",
        "|-|-|-|-|-|-|-|-|-|\n",
        "|Adult (Valid)|0.7473|0.6051|-0.3066|-0.0136|0.7473|0.6198|-0.2285|0.0287|\n",
        "|Adult (Test)|0.7417|0.5968|-0.4001|-0.0415|0.7417|0.6202|-0.2165|0.1193|\n",
        "|German (Valid)|0.6930|0.6930|-0.0347|-0.0347|0.6930|0.6597|0.1162|-0.0210|\n",
        "|German (Test)|0.6524|0.6571|0.0400|0.0733|0.6524|0.6190|-0.3556|-0.4333|\n",
        "|Compas (Valid)|0.6599|0.6416|-0.1938|0.0244|0.6599|0.6646|-0.2315|0.0002|\n",
        "|Compas (Test)|0.6774|0.6721|-0.1392|0.0236|0.6774|0.6512|-0.1877|0.1196|\n",
        "\n",
        "#### Optimal Parameters\n",
        "\n",
        "| Dataset |Sex (Class. thresh.)|Sex (Class. thresh. - fairness)|Sex (ROC margin - fairness)| Race/Age (Class. thresh.)|Race/Age (Class. thresh. - fairness)|Race/Age (ROC margin - fairness)|\n",
        "|-|-|-|-|-|-|-|\n",
        "|Adult|0.2674|0.5049|0.1819|0.2674|0.5049|0.0808|\n",
        "|German|0.6732|0.6633|0.0137|0.6732|0.6039|0.0000|\n",
        "|Compas|0.5148|0.5742|0.0608|0.5148|0.5841|0.0679|\n"
      ]
    },
    {
      "cell_type": "code",
      "metadata": {
        "id": "5DuShl3Vwyo8"
      },
      "source": [
        ""
      ],
      "execution_count": null,
      "outputs": []
    }
  ]
}